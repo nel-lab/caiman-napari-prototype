{
 "cells": [
  {
   "cell_type": "code",
   "execution_count": 1,
   "id": "ec426637-e1b9-4a1f-84bb-6355e3f70668",
   "metadata": {},
   "outputs": [
    {
     "name": "stderr",
     "output_type": "stream",
     "text": [
      "2022-05-30 18:18:52.986674: W tensorflow/stream_executor/platform/default/dso_loader.cc:64] Could not load dynamic library 'libcudart.so.11.0'; dlerror: libcudart.so.11.0: cannot open shared object file: No such file or directory; LD_LIBRARY_PATH: /home/arjun/miniconda3/envs/core_test/lib/python3.9/site-packages/cv2/../../lib64:/usr/lib/cuda/include:/usr/lib/cuda/lib64:\n",
      "2022-05-30 18:18:52.986718: I tensorflow/stream_executor/cuda/cudart_stub.cc:29] Ignore above cudart dlerror if you do not have a GPU set up on your machine.\n"
     ]
    }
   ],
   "source": [
    "import caiman as cm\n",
    "from caiman.source_extraction.cnmf.cnmf import load_CNMF\n",
    "from caiman.utils.visualization import get_contours as caiman_get_contours\n",
    "import numpy as np"
   ]
  },
  {
   "cell_type": "code",
   "execution_count": 2,
   "id": "3d8bc5e0",
   "metadata": {},
   "outputs": [],
   "source": [
    "from mesmerize_core import *\n",
    "from mesmerize_napari import *\n",
    "from mesmerize_core import CNMFExtensions"
   ]
  },
  {
   "cell_type": "code",
   "execution_count": 3,
   "id": "88231438",
   "metadata": {},
   "outputs": [],
   "source": [
    "df = load_batch('/home/arjun/CaImAn/example_movies/test_5_7.pickle')"
   ]
  },
  {
   "cell_type": "code",
   "execution_count": 4,
   "id": "fe195e2c",
   "metadata": {
    "scrolled": true
   },
   "outputs": [
    {
     "data": {
      "text/html": [
       "<div>\n",
       "<style scoped>\n",
       "    .dataframe tbody tr th:only-of-type {\n",
       "        vertical-align: middle;\n",
       "    }\n",
       "\n",
       "    .dataframe tbody tr th {\n",
       "        vertical-align: top;\n",
       "    }\n",
       "\n",
       "    .dataframe thead th {\n",
       "        text-align: right;\n",
       "    }\n",
       "</style>\n",
       "<table border=\"1\" class=\"dataframe\">\n",
       "  <thead>\n",
       "    <tr style=\"text-align: right;\">\n",
       "      <th></th>\n",
       "      <th>algo</th>\n",
       "      <th>name</th>\n",
       "      <th>input_movie_path</th>\n",
       "      <th>params</th>\n",
       "      <th>outputs</th>\n",
       "      <th>uuid</th>\n",
       "    </tr>\n",
       "  </thead>\n",
       "  <tbody>\n",
       "    <tr>\n",
       "      <th>0</th>\n",
       "      <td>mcorr</td>\n",
       "      <td>asdf</td>\n",
       "      <td>CaImAn/example_movies/demoMovie.tif</td>\n",
       "      <td>{'mcorr_kwargs': {'max_shifts': [6, 6], 'niter...</td>\n",
       "      <td>{'mcorr-output-path': CaImAn/example_movies/1d...</td>\n",
       "      <td>1da21ea4-f45f-47d1-b8ab-047cb51468c2</td>\n",
       "    </tr>\n",
       "    <tr>\n",
       "      <th>1</th>\n",
       "      <td>cnmf</td>\n",
       "      <td>asdf</td>\n",
       "      <td>CaImAn/example_movies/demoMovie.tif</td>\n",
       "      <td>{'refit': True, 'cnmf_kwargs': {'p': 2, 'nb': ...</td>\n",
       "      <td>{'cnmf-hdf5-path': CaImAn/example_movies/92a8f...</td>\n",
       "      <td>92a8f762-b9e6-4ea6-a1b5-d46138c04112</td>\n",
       "    </tr>\n",
       "    <tr>\n",
       "      <th>2</th>\n",
       "      <td>cnmf</td>\n",
       "      <td>asdf_2</td>\n",
       "      <td>CaImAn/example_movies/92a8f762-b9e6-4ea6-a1b5-...</td>\n",
       "      <td>{'refit': True, 'cnmf_kwargs': {'p': 2, 'nb': ...</td>\n",
       "      <td>{'cnmf-hdf5-path': CaImAn/example_movies/2b27b...</td>\n",
       "      <td>2b27b4ff-e305-4865-89fd-d68a49bc2467</td>\n",
       "    </tr>\n",
       "    <tr>\n",
       "      <th>3</th>\n",
       "      <td>mcorr</td>\n",
       "      <td>asdf_pw</td>\n",
       "      <td>CaImAn/example_movies/demoMovie.tif</td>\n",
       "      <td>{'mcorr_kwargs': {'max_shifts': [6, 6], 'niter...</td>\n",
       "      <td>{'mean-projection-path': CaImAn/example_movies...</td>\n",
       "      <td>1e1df34c-0ce7-48a7-8154-4334e620ff71</td>\n",
       "    </tr>\n",
       "    <tr>\n",
       "      <th>4</th>\n",
       "      <td>cnmf</td>\n",
       "      <td>asdf</td>\n",
       "      <td>CaImAn/example_movies/ff6a043b-6bae-4628-b56c-...</td>\n",
       "      <td>{'refit': True, 'cnmf_kwargs': {'p': 2, 'nb': ...</td>\n",
       "      <td>{'mean-projection-path': CaImAn/example_movies...</td>\n",
       "      <td>396c7269-9799-44d1-8a55-1a9d9da86d44</td>\n",
       "    </tr>\n",
       "    <tr>\n",
       "      <th>5</th>\n",
       "      <td>cnmf</td>\n",
       "      <td>fr_test</td>\n",
       "      <td>CaImAn/example_movies/1e1df34c-0ce7-48a7-8154-...</td>\n",
       "      <td>{'refit': True, 'cnmf_kwargs': {'p': 2, 'nb': ...</td>\n",
       "      <td>{'mean-projection-path': CaImAn/example_movies...</td>\n",
       "      <td>f7f6f4f6-6fef-4ea1-9afc-b33b9de33b61</td>\n",
       "    </tr>\n",
       "    <tr>\n",
       "      <th>6</th>\n",
       "      <td>mcorr</td>\n",
       "      <td>test_qprocess</td>\n",
       "      <td>CaImAn/example_movies/demoMovie.tif</td>\n",
       "      <td>{'mcorr_kwargs': {'max_shifts': [6, 6], 'niter...</td>\n",
       "      <td>None</td>\n",
       "      <td>c2257852-d0ec-450b-9ec1-ac5a1884e7fd</td>\n",
       "    </tr>\n",
       "    <tr>\n",
       "      <th>7</th>\n",
       "      <td>cnmf</td>\n",
       "      <td>asdf</td>\n",
       "      <td>CaImAn/example_movies/1e1df34c-0ce7-48a7-8154-...</td>\n",
       "      <td>{'refit': True, 'cnmf_kwargs': {'p': 2, 'nb': ...</td>\n",
       "      <td>None</td>\n",
       "      <td>11407c48-e04b-4ac6-bdf0-220288876800</td>\n",
       "    </tr>\n",
       "  </tbody>\n",
       "</table>\n",
       "</div>"
      ],
      "text/plain": [
       "    algo           name                                   input_movie_path  \\\n",
       "0  mcorr           asdf                CaImAn/example_movies/demoMovie.tif   \n",
       "1   cnmf           asdf                CaImAn/example_movies/demoMovie.tif   \n",
       "2   cnmf         asdf_2  CaImAn/example_movies/92a8f762-b9e6-4ea6-a1b5-...   \n",
       "3  mcorr        asdf_pw                CaImAn/example_movies/demoMovie.tif   \n",
       "4   cnmf           asdf  CaImAn/example_movies/ff6a043b-6bae-4628-b56c-...   \n",
       "5   cnmf        fr_test  CaImAn/example_movies/1e1df34c-0ce7-48a7-8154-...   \n",
       "6  mcorr  test_qprocess                CaImAn/example_movies/demoMovie.tif   \n",
       "7   cnmf           asdf  CaImAn/example_movies/1e1df34c-0ce7-48a7-8154-...   \n",
       "\n",
       "                                              params  \\\n",
       "0  {'mcorr_kwargs': {'max_shifts': [6, 6], 'niter...   \n",
       "1  {'refit': True, 'cnmf_kwargs': {'p': 2, 'nb': ...   \n",
       "2  {'refit': True, 'cnmf_kwargs': {'p': 2, 'nb': ...   \n",
       "3  {'mcorr_kwargs': {'max_shifts': [6, 6], 'niter...   \n",
       "4  {'refit': True, 'cnmf_kwargs': {'p': 2, 'nb': ...   \n",
       "5  {'refit': True, 'cnmf_kwargs': {'p': 2, 'nb': ...   \n",
       "6  {'mcorr_kwargs': {'max_shifts': [6, 6], 'niter...   \n",
       "7  {'refit': True, 'cnmf_kwargs': {'p': 2, 'nb': ...   \n",
       "\n",
       "                                             outputs  \\\n",
       "0  {'mcorr-output-path': CaImAn/example_movies/1d...   \n",
       "1  {'cnmf-hdf5-path': CaImAn/example_movies/92a8f...   \n",
       "2  {'cnmf-hdf5-path': CaImAn/example_movies/2b27b...   \n",
       "3  {'mean-projection-path': CaImAn/example_movies...   \n",
       "4  {'mean-projection-path': CaImAn/example_movies...   \n",
       "5  {'mean-projection-path': CaImAn/example_movies...   \n",
       "6                                               None   \n",
       "7                                               None   \n",
       "\n",
       "                                   uuid  \n",
       "0  1da21ea4-f45f-47d1-b8ab-047cb51468c2  \n",
       "1  92a8f762-b9e6-4ea6-a1b5-d46138c04112  \n",
       "2  2b27b4ff-e305-4865-89fd-d68a49bc2467  \n",
       "3  1e1df34c-0ce7-48a7-8154-4334e620ff71  \n",
       "4  396c7269-9799-44d1-8a55-1a9d9da86d44  \n",
       "5  f7f6f4f6-6fef-4ea1-9afc-b33b9de33b61  \n",
       "6  c2257852-d0ec-450b-9ec1-ac5a1884e7fd  \n",
       "7  11407c48-e04b-4ac6-bdf0-220288876800  "
      ]
     },
     "execution_count": 4,
     "metadata": {},
     "output_type": "execute_result"
    }
   ],
   "source": [
    "df"
   ]
  },
  {
   "cell_type": "code",
   "execution_count": 5,
   "id": "5f4ed99f",
   "metadata": {},
   "outputs": [
    {
     "data": {
      "text/plain": [
       "PosixPath('/home/arjun')"
      ]
     },
     "execution_count": 5,
     "metadata": {},
     "output_type": "execute_result"
    }
   ],
   "source": [
    "set_parent_data_path('/home/arjun/')"
   ]
  },
  {
   "cell_type": "code",
   "execution_count": 6,
   "id": "f1fc6a67",
   "metadata": {},
   "outputs": [],
   "source": [
    "cnmf_obj = df.iloc[1].cnmf.get_output()"
   ]
  },
  {
   "cell_type": "code",
   "execution_count": 7,
   "id": "87c43960",
   "metadata": {},
   "outputs": [
    {
     "data": {
      "text/plain": [
       "array([0, 1, 2, 3, 4, 5, 7, 8, 9])"
      ]
     },
     "execution_count": 7,
     "metadata": {},
     "output_type": "execute_result"
    }
   ],
   "source": [
    "cnmf_obj.estimates.idx_components"
   ]
  },
  {
   "cell_type": "code",
   "execution_count": 8,
   "id": "e285ea50",
   "metadata": {},
   "outputs": [
    {
     "data": {
      "text/plain": [
       "array([6])"
      ]
     },
     "execution_count": 8,
     "metadata": {},
     "output_type": "execute_result"
    }
   ],
   "source": [
    "cnmf_obj.estimates.idx_components_bad"
   ]
  },
  {
   "cell_type": "code",
   "execution_count": 9,
   "id": "b3a11ec3",
   "metadata": {},
   "outputs": [],
   "source": [
    "some_ixs = np.array([1, 3, 6, 9])"
   ]
  },
  {
   "cell_type": "code",
   "execution_count": 10,
   "id": "665821b2",
   "metadata": {},
   "outputs": [
    {
     "ename": "TypeError",
     "evalue": "unhashable type: 'numpy.ndarray'",
     "output_type": "error",
     "traceback": [
      "\u001b[0;31m---------------------------------------------------------------------------\u001b[0m",
      "\u001b[0;31mTypeError\u001b[0m                                 Traceback (most recent call last)",
      "Input \u001b[0;32mIn [10]\u001b[0m, in \u001b[0;36m<cell line: 1>\u001b[0;34m()\u001b[0m\n\u001b[0;32m----> 1\u001b[0m \u001b[43mdf\u001b[49m\u001b[38;5;241;43m.\u001b[39;49m\u001b[43miloc\u001b[49m\u001b[43m[\u001b[49m\u001b[38;5;241;43m1\u001b[39;49m\u001b[43m]\u001b[49m\u001b[38;5;241;43m.\u001b[39;49m\u001b[43mcnmf\u001b[49m\u001b[38;5;241;43m.\u001b[39;49m\u001b[43m_get_spatial_contours\u001b[49m\u001b[43m(\u001b[49m\n\u001b[1;32m      2\u001b[0m \u001b[43m    \u001b[49m\u001b[43mcnmf_obj\u001b[49m\u001b[38;5;241;43m=\u001b[39;49m\u001b[43mcnmf_obj\u001b[49m\u001b[43m,\u001b[49m\u001b[43m \u001b[49m\n\u001b[1;32m      3\u001b[0m \u001b[43m    \u001b[49m\u001b[43mixs_components\u001b[49m\u001b[38;5;241;43m=\u001b[39;49m\u001b[43mcnmf_obj\u001b[49m\u001b[38;5;241;43m.\u001b[39;49m\u001b[43mestimates\u001b[49m\u001b[38;5;241;43m.\u001b[39;49m\u001b[43midx_components\u001b[49m\n\u001b[1;32m      4\u001b[0m \u001b[43m)\u001b[49m\n",
      "\u001b[0;31mTypeError\u001b[0m: unhashable type: 'numpy.ndarray'"
     ]
    }
   ],
   "source": [
    "df.iloc[1].cnmf._get_spatial_contours(\n",
    "    cnmf_obj=cnmf_obj, \n",
    "    ixs_components=cnmf_obj.estimates.idx_components\n",
    ")"
   ]
  },
  {
   "cell_type": "code",
   "execution_count": 11,
   "id": "e1a2ac64",
   "metadata": {},
   "outputs": [],
   "source": []
  },
  {
   "cell_type": "code",
   "execution_count": null,
   "id": "f9e17e32",
   "metadata": {},
   "outputs": [],
   "source": []
  },
  {
   "cell_type": "code",
   "execution_count": null,
   "id": "36ddf4f5",
   "metadata": {},
   "outputs": [],
   "source": []
  }
 ],
 "metadata": {
  "kernelspec": {
   "display_name": "Python 3 (ipykernel)",
   "language": "python",
   "name": "python3"
  },
  "language_info": {
   "codemirror_mode": {
    "name": "ipython",
    "version": 3
   },
   "file_extension": ".py",
   "mimetype": "text/x-python",
   "name": "python",
   "nbconvert_exporter": "python",
   "pygments_lexer": "ipython3",
   "version": "3.9.12"
  }
 },
 "nbformat": 4,
 "nbformat_minor": 5
}
