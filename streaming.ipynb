{
 "cells": [
  {
   "cell_type": "code",
   "execution_count": 1,
   "id": "ec426637-e1b9-4a1f-84bb-6355e3f70668",
   "metadata": {},
   "outputs": [],
   "source": [
    "%gui qt5\n",
    "\n",
    "import time\n",
    "import numpy as np\n",
    "import queue\n",
    "#import yappi # needed for benchmarking multithreaded code\n",
    "\n",
    "import napari\n",
    "from napari.qt import thread_worker\n",
    "from magicgui import magicgui\n",
    "import tifffile\n",
    "import logging\n",
    "import numpy as np\n",
    "from pyqtgraph import PlotWidget, PlotDataItem"
   ]
  },
  {
   "cell_type": "code",
   "execution_count": 2,
   "id": "361f4839-7a6a-414d-a72b-40fa883b0675",
   "metadata": {},
   "outputs": [],
   "source": [
    "# img_queue = queue.Queue()cmap = ['plasma']\n",
    "sleep_time = 0.01\n",
    "acq_running = False\n",
    "start = 0\n",
    "end = 0"
   ]
  },
  {
   "cell_type": "code",
   "execution_count": 3,
   "id": "79988c31-99f5-470a-bb8e-6ae824573df7",
   "metadata": {},
   "outputs": [],
   "source": [
    "plot_widget = None\n",
    "plot_data = []"
   ]
  },
  {
   "cell_type": "code",
   "execution_count": 4,
   "id": "e7159f17-b835-4dfc-b2e2-5ae1013cf303",
   "metadata": {},
   "outputs": [],
   "source": [
    "def display_napari(args):\n",
    "    global start\n",
    "    global end\n",
    "    \n",
    "    frame_ix, frame = args\n",
    "    \n",
    "    if frame is None:\n",
    "        end = time.time()\n",
    "        print(f'framerate: {1 / ((end - start) / 1309)}')        \n",
    "        return\n",
    "    \n",
    "#     fit_onacid(frame)\n",
    "    \n",
    "    if len(viewer.layers) < 1:\n",
    "        start = time.time()\n",
    "        viewer.add_image(frame, colormap='magma', contrast_limits=[0,10])\n",
    "        set_components()\n",
    "    \n",
    "    else:\n",
    "        if frame_ix % 5 == 0: #display every 10th frame\n",
    "            layer = viewer.layers[0]\n",
    "            layer.data = frame\n",
    "        update_components()\n",
    "\n",
    "def set_components():\n",
    "    global plot_widget\n",
    "    global plot_data\n",
    "    \n",
    "    plot_widget = PlotWidget()\n",
    "    plot_data = []\n",
    "    \n",
    "    for i, c in enumerate(np.random.rand(50, 2000)):\n",
    "        plot_data.append(PlotDataItem(c + i))\n",
    "        plot_widget.addItem(plot_data[-1])\n",
    "    \n",
    "    plot_widget.show()\n",
    "        \n",
    "def update_components():\n",
    "    global plot_data\n",
    "    \n",
    "    for i, c in enumerate(np.random.rand(50, 2000)):\n",
    "        plot_data[i].setData(c + i)\n",
    "\n",
    "@thread_worker\n",
    "def fit_onacid(frame):\n",
    "    pass\n",
    "    \n",
    "@thread_worker(connect={'yielded': display_napari})\n",
    "def yield_img(sampling_rate=100):\n",
    "    \"\"\" \n",
    "    Worker thread that checks whether there are elements in the\n",
    "    queue, reads them out.\n",
    "    Connected to display_napari function to update display\n",
    "    \"\"\"\n",
    "    tif = tifffile.TiffFile('/home/kushal/repos/zfish.tiff')\n",
    "    \n",
    "    for i in range(tif.shaped_metadata[0]['shape'][0]):\n",
    "        time.sleep(1 / sampling_rate)\n",
    "        frame = tif.asarray(key=i, maxworkers=8)\n",
    "        yield (i, frame)\n",
    "    \n",
    "    \n",
    "    yield (None, None)"
   ]
  },
  {
   "cell_type": "code",
   "execution_count": 5,
   "id": "bede7fc7-7755-4897-a5ef-289ddd865e06",
   "metadata": {},
   "outputs": [
    {
     "name": "stderr",
     "output_type": "stream",
     "text": [
      "WARNING:param.Dimension: Use method 'get_param_values' via param namespace \n",
      "WARNING:param.Dimension: Use method 'get_param_values' via param namespace \n",
      "WARNING:param.Dimension: Use method 'get_param_values' via param namespace \n",
      "WARNING:param.Dimension: Use method 'get_param_values' via param namespace \n",
      "WARNING:param.Dimension: Use method 'get_param_values' via param namespace \n",
      "WARNING:param.Dimension: Use method 'get_param_values' via param namespace \n",
      "WARNING:param.Dimension: Use method 'get_param_values' via param namespace \n",
      "WARNING:param.Dimension: Use method 'get_param_values' via param namespace \n",
      "WARNING:param.Dimension: Use method 'get_param_values' via param namespace \n",
      "WARNING:param.Dimension: Use method 'get_param_values' via param namespace \n",
      "WARNING:param.Dimension: Use method 'get_param_values' via param namespace \n",
      "WARNING:param.Dimension: Use method 'get_param_values' via param namespace \n",
      "WARNING:param.Dimension: Use method 'get_param_values' via param namespace \n",
      "WARNING:param.Dimension: Use method 'get_param_values' via param namespace \n",
      "WARNING:param.Dimension: Use method 'get_param_values' via param namespace \n",
      "WARNING:param.Dimension: Use method 'get_param_values' via param namespace \n",
      "WARNING:param.Dimension: Use method 'get_param_values' via param namespace \n",
      "WARNING:param.Dimension: Use method 'get_param_values' via param namespace \n",
      "WARNING:param.Dimension: Use method 'get_param_values' via param namespace \n",
      "WARNING:param.Dimension: Use method 'get_param_values' via param namespace \n",
      "WARNING:param.Dimension: Use method 'get_param_values' via param namespace \n",
      "WARNING:param.Dimension: Use method 'get_param_values' via param namespace \n",
      "WARNING:param.Dimension: Use method 'get_param_values' via param namespace \n",
      "WARNING:param.Dimension: Use method 'get_param_values' via param namespace \n",
      "WARNING:param.Dimension: Use method 'get_param_values' via param namespace \n",
      "WARNING:param.Dimension: Use method 'get_param_values' via param namespace \n",
      "WARNING:param.Dimension: Use method 'get_param_values' via param namespace \n",
      "WARNING:param.Dimension: Use method 'get_param_values' via param namespace \n",
      "WARNING:param.Dimension: Use method 'get_param_values' via param namespace \n",
      "WARNING:param.Dimension: Use method 'get_param_values' via param namespace \n",
      "WARNING:param.Dimension: Use method 'get_param_values' via param namespace \n",
      "WARNING:param.Dimension: Use method 'get_param_values' via param namespace \n",
      "WARNING:param.Dimension: Use method 'get_param_values' via param namespace \n",
      "WARNING:param.Dimension: Use method 'get_param_values' via param namespace \n",
      "WARNING:param.Dimension: Use method 'get_param_values' via param namespace \n",
      "WARNING:param.Dimension: Use method 'get_param_values' via param namespace \n",
      "WARNING:param.Dimension: Use method 'get_param_values' via param namespace \n",
      "WARNING:param.Dimension: Use method 'get_param_values' via param namespace \n",
      "WARNING:param.Dimension: Use method 'get_param_values' via param namespace \n",
      "WARNING:param.Dimension: Use method 'get_param_values' via param namespace \n",
      "WARNING:param.Dimension: Use method 'get_param_values' via param namespace \n",
      "WARNING:param.Dimension: Use method 'get_param_values' via param namespace \n",
      "WARNING:param.Dimension: Use method 'get_param_values' via param namespace \n",
      "WARNING:param.Dimension: Use method 'get_param_values' via param namespace \n",
      "WARNING:param.Dimension: Use method 'get_param_values' via param namespace \n",
      "WARNING:param.Dimension: Use method 'get_param_values' via param namespace \n",
      "WARNING:param.Dimension: Use method 'get_param_values' via param namespace \n",
      "WARNING:param.Dimension: Use method 'get_param_values' via param namespace \n",
      "WARNING:param.Dimension: Use method 'get_param_values' via param namespace \n",
      "WARNING:param.Dimension: Use method 'get_param_values' via param namespace \n",
      "WARNING:param.Dimension: Use method 'get_param_values' via param namespace \n",
      "WARNING:param.Dimension: Use method 'get_param_values' via param namespace \n",
      "WARNING:param.Dimension: Use method 'get_param_values' via param namespace \n",
      "WARNING:param.Dimension: Use method 'get_param_values' via param namespace \n",
      "WARNING:param.Dimension: Use method 'get_param_values' via param namespace \n",
      "WARNING:param.Dimension: Use method 'get_param_values' via param namespace \n",
      "WARNING:param.Dimension: Use method 'get_param_values' via param namespace \n",
      "WARNING:param.Dimension: Use method 'get_param_values' via param namespace \n",
      "WARNING:param.Dimension: Use method 'get_param_values' via param namespace \n",
      "WARNING:param.Dimension: Use method 'get_param_values' via param namespace \n",
      "WARNING:param.Dimension: Use method 'get_param_values' via param namespace \n",
      "WARNING:param.Dimension: Use method 'get_param_values' via param namespace \n",
      "WARNING:param.Dimension: Use method 'get_param_values' via param namespace \n",
      "WARNING:param.Dimension: Use method 'get_param_values' via param namespace \n",
      "WARNING:param.Dimension: Use method 'get_param_values' via param namespace \n",
      "WARNING:param.Dimension: Use method 'get_param_values' via param namespace \n",
      "WARNING:param.Dimension: Use method 'get_param_values' via param namespace \n",
      "WARNING:param.Dimension: Use method 'get_param_values' via param namespace \n",
      "WARNING:param.Dimension: Use method 'get_param_values' via param namespace \n",
      "WARNING:param.Dimension: Use method 'get_param_values' via param namespace \n",
      "WARNING:param.Dimension: Use method 'get_param_values' via param namespace \n",
      "WARNING:param.Dimension: Use method 'get_param_values' via param namespace \n",
      "WARNING:param.Dimension: Use method 'get_param_values' via param namespace \n",
      "WARNING:param.Dimension: Use method 'get_param_values' via param namespace \n",
      "WARNING:param.Dimension: Use method 'get_param_values' via param namespace \n",
      "WARNING:param.Dimension: Use method 'get_param_values' via param namespace \n",
      "WARNING:param.Dimension: Use method 'get_param_values' via param namespace \n",
      "WARNING:param.Dimension: Use method 'get_param_values' via param namespace \n",
      "WARNING:param.Dimension: Use method 'get_param_values' via param namespace \n",
      "WARNING:param.Dimension: Use method 'get_param_values' via param namespace \n",
      "WARNING:param.Dimension: Use method 'get_param_values' via param namespace \n",
      "WARNING:param.Dimension: Use method 'get_param_values' via param namespace \n",
      "WARNING:param.Dimension: Use method 'get_param_values' via param namespace \n",
      "WARNING:param.Dimension: Use method 'get_param_values' via param namespace \n",
      "WARNING:param.Dimension: Use method 'get_param_values' via param namespace \n",
      "WARNING:param.Dimension: Use method 'get_param_values' via param namespace \n",
      "WARNING:param.Dimension: Use method 'get_param_values' via param namespace \n",
      "WARNING:param.Dimension: Use method 'get_param_values' via param namespace \n",
      "WARNING:param.Dimension: Use method 'get_param_values' via param namespace \n",
      "WARNING:param.Dimension: Use method 'get_param_values' via param namespace \n",
      "WARNING:param.Dimension: Use method 'get_param_values' via param namespace \n",
      "WARNING:param.Dimension: Use method 'get_param_values' via param namespace \n",
      "WARNING:param.Dimension: Use method 'get_param_values' via param namespace \n",
      "WARNING:param.Dimension: Use method 'get_param_values' via param namespace \n",
      "WARNING:param.Dimension: Use method 'get_param_values' via param namespace \n",
      "WARNING:param.Dimension: Use method 'get_param_values' via param namespace \n",
      "WARNING:param.Dimension: Use method 'get_param_values' via param namespace \n",
      "WARNING:param.Dimension: Use method 'get_param_values' via param namespace \n",
      "WARNING:param.Dimension: Use method 'get_param_values' via param namespace \n",
      "WARNING:param.Dimension: Use method 'get_param_values' via param namespace \n",
      "WARNING:param.Dimension: Use method 'get_param_values' via param namespace \n",
      "WARNING:param.Dimension: Use method 'get_param_values' via param namespace \n",
      "WARNING:param.Dimension: Use method 'get_param_values' via param namespace \n",
      "WARNING:param.Dimension: Use method 'get_param_values' via param namespace \n",
      "WARNING:param.Dimension: Use method 'get_param_values' via param namespace \n",
      "WARNING:param.Dimension: Use method 'get_param_values' via param namespace \n",
      "WARNING:param.Dimension: Use method 'get_param_values' via param namespace \n",
      "WARNING:param.Dimension: Use method 'get_param_values' via param namespace \n",
      "WARNING:param.Dimension: Use method 'get_param_values' via param namespace \n",
      "WARNING:param.Dimension: Use method 'get_param_values' via param namespace \n",
      "WARNING:param.Dimension: Use method 'get_param_values' via param namespace \n",
      "WARNING:param.Dimension: Use method 'get_param_values' via param namespace \n",
      "WARNING:param.Dimension: Use method 'get_param_values' via param namespace \n",
      "WARNING:param.Dimension: Use method 'get_param_values' via param namespace \n",
      "WARNING:param.Dimension: Use method 'get_param_values' via param namespace \n",
      "WARNING:param.Dimension: Use method 'get_param_values' via param namespace \n",
      "WARNING:param.Dimension: Use method 'get_param_values' via param namespace \n",
      "WARNING:param.Dimension: Use method 'get_param_values' via param namespace \n",
      "WARNING:param.Dimension: Use method 'get_param_values' via param namespace \n",
      "WARNING:param.Dimension: Use method 'get_param_values' via param namespace \n",
      "WARNING:param.Dimension: Use method 'get_param_values' via param namespace \n",
      "WARNING:param.Dimension: Use method 'get_param_values' via param namespace \n",
      "WARNING:param.Dimension: Use method 'get_param_values' via param namespace \n",
      "WARNING:param.Dimension: Use method 'get_param_values' via param namespace \n",
      "WARNING:param.Dimension: Use method 'get_param_values' via param namespace \n",
      "WARNING:param.Dimension: Use method 'get_param_values' via param namespace \n",
      "WARNING:param.Dimension: Use method 'get_param_values' via param namespace \n",
      "WARNING:param.Dimension: Use method 'get_param_values' via param namespace \n",
      "WARNING:param.Dimension: Use method 'get_param_values' via param namespace \n",
      "WARNING:param.Dimension: Use method 'get_param_values' via param namespace \n",
      "WARNING:param.Dimension: Use method 'get_param_values' via param namespace \n",
      "2021-07-12 02:44:21.099560: I tensorflow/stream_executor/platform/default/dso_loader.cc:49] Successfully opened dynamic library libcudart.so.11.0\n"
     ]
    }
   ],
   "source": [
    "viewer = napari.Viewer()"
   ]
  },
  {
   "cell_type": "code",
   "execution_count": 6,
   "id": "c5e958c1-32ad-43fc-b163-2f5dc9138cba",
   "metadata": {},
   "outputs": [
    {
     "data": {
      "text/plain": [
       "<napari._qt.qthreading.GeneratorWorker at 0x7f482c790310>"
      ]
     },
     "execution_count": 6,
     "metadata": {},
     "output_type": "execute_result"
    },
    {
     "name": "stdout",
     "output_type": "stream",
     "text": [
      "framerate: 89.77897875303437\n"
     ]
    }
   ],
   "source": [
    "yield_img(sampling_rate=100)"
   ]
  },
  {
   "cell_type": "code",
   "execution_count": 28,
   "id": "c132c436-02f3-4a1a-bb85-a987ca1e6605",
   "metadata": {},
   "outputs": [],
   "source": [
    "img = tifffile.imread('/home/kushal/repos/zfish.tiff')"
   ]
  },
  {
   "cell_type": "code",
   "execution_count": 29,
   "id": "6b4be35e-a401-454f-9c0c-c5a8da4468af",
   "metadata": {},
   "outputs": [
    {
     "data": {
      "text/plain": [
       "(1309, 512, 512)"
      ]
     },
     "execution_count": 29,
     "metadata": {},
     "output_type": "execute_result"
    }
   ],
   "source": [
    "img.shape"
   ]
  }
 ],
 "metadata": {
  "kernelspec": {
   "display_name": "Python 3 (ipykernel)",
   "language": "python",
   "name": "python3"
  },
  "language_info": {
   "codemirror_mode": {
    "name": "ipython",
    "version": 3
   },
   "file_extension": ".py",
   "mimetype": "text/x-python",
   "name": "python",
   "nbconvert_exporter": "python",
   "pygments_lexer": "ipython3",
   "version": "3.8.8"
  }
 },
 "nbformat": 4,
 "nbformat_minor": 5
}
